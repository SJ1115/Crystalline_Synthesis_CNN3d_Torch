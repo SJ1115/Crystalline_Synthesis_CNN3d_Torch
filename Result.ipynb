{
 "cells": [
  {
   "attachments": {},
   "cell_type": "markdown",
   "metadata": {},
   "source": [
    "## Score\n",
    "\n",
    "|Model|Acc|F1(Bin)|F1(Mac)|F1(Mic)|\n",
    "| --- |---|---|---|---|\n",
    "|**CNN(ref.)**|93.7|--|--|--|\n",
    "|**CAE(ref.)**|91.9|--|--|--|\n",
    "|  CNN(re.)   |92.96|95.78|87.33|92.96|\n",
    "|  CAE(re.)   |92.22|95.27|85.50|90.37|"
   ]
  },
  {
   "attachments": {},
   "cell_type": "markdown",
   "metadata": {},
   "source": [
    "## CNN Reproduction"
   ]
  },
  {
   "cell_type": "code",
   "execution_count": 1,
   "metadata": {},
   "outputs": [],
   "source": [
    "from src.model import CNN\n",
    "from src.config import config_CNN as config\n",
    "from src.trainer import Trainer\n",
    "import torch.nn as nn\n",
    "from torch.optim import Adam\n",
    "\n",
    "model = CNN(config)\n",
    "\n",
    "criterion = nn.BCELoss() # in task tuning\n",
    "\n",
    "optimizer = Adam(model.parameters())\n",
    "\n",
    "\n",
    "trainer = Trainer(model, criterion, optimizer, config)\n"
   ]
  },
  {
   "cell_type": "code",
   "execution_count": null,
   "metadata": {},
   "outputs": [],
   "source": [
    "trainer.train()\n",
    "trainer.test()\n",
    "trainer.plot()"
   ]
  },
  {
   "cell_type": "code",
   "execution_count": null,
   "metadata": {},
   "outputs": [],
   "source": [
    "trainer.test(f1_method='binary')\n",
    "trainer.test(f1_method='macro')\n",
    "trainer.test(f1_method='micro')\n",
    "#trainer.plot()"
   ]
  },
  {
   "attachments": {},
   "cell_type": "markdown",
   "metadata": {},
   "source": [
    "## CAE Reproduction"
   ]
  },
  {
   "cell_type": "code",
   "execution_count": 3,
   "metadata": {},
   "outputs": [],
   "source": [
    "from src.model import CAE, CAE_MLP\n",
    "from src.config import config_CAE as config\n",
    "from src.trainer import Trainer\n",
    "import torch\n",
    "import torch.nn as nn\n",
    "from torch.optim import Adam\n",
    "\n",
    "config.is_unsupervised = False\n",
    "config.epoch = 10\n",
    "\n",
    "basemodel = CAE(config)\n",
    "with open(\"CAE.pt\", \"rb\") as f:\n",
    "    basemodel.load_state_dict(torch.load(f))\n",
    "\n",
    "model = CAE_MLP(basemodel, config)\n",
    "\n",
    "#criterion = nn.MSELoss() # in CAE pretrain\n",
    "criterion = nn.BCELoss() # in task tuning\n",
    "\n",
    "optimizer = Adam(model.parameters(), lr=0.0005, weight_decay=.002)\n",
    "\n",
    "trainer = Trainer(model, criterion, optimizer, config)\n"
   ]
  },
  {
   "cell_type": "code",
   "execution_count": null,
   "metadata": {},
   "outputs": [],
   "source": [
    "trainer.train()\n",
    "trainer.test()\n",
    "trainer.plot()"
   ]
  },
  {
   "cell_type": "code",
   "execution_count": 5,
   "metadata": {},
   "outputs": [],
   "source": [
    "trainer.test(f1_method='binary')\n",
    "trainer.test(f1_method='macro')\n",
    "trainer.test(f1_method='micro')\n",
    "#trainer.plot()"
   ]
  }
 ],
 "metadata": {
  "kernelspec": {
   "display_name": "freshman01",
   "language": "python",
   "name": "python3"
  },
  "language_info": {
   "codemirror_mode": {
    "name": "ipython",
    "version": 3
   },
   "file_extension": ".py",
   "mimetype": "text/x-python",
   "name": "python",
   "nbconvert_exporter": "python",
   "pygments_lexer": "ipython3",
   "version": "3.10.4"
  },
  "orig_nbformat": 4
 },
 "nbformat": 4,
 "nbformat_minor": 2
}
